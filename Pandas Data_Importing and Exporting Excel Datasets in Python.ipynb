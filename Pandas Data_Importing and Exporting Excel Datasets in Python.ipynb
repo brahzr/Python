{
 "cells": [
  {
   "cell_type": "markdown",
   "id": "d9524afb-427d-4186-8545-fa1ff5a8bd67",
   "metadata": {},
   "source": [
    "# Pandas Data: Importing and Exporting Excel Datasets in Python\n",
    "**Author:**\n",
    "Brahim Zirari <br>\n",
    "**Version:**\n",
    "Python 3.13.5 <br>\n",
    "**Topic:** <br>\n",
    "* This notebook contains an example of importing data from an Excel dataset and exporting the output to different formats.\n",
    "  \n",
    "**Dataset link:** <a href = \"https://www.kaggle.com/datasets/brahimzr/per-capita-meat-consumption-by-type\" > Click here </a>"
   ]
  },
  {
   "cell_type": "markdown",
   "id": "cd691a6a-8b96-420f-8c04-90f3b0f3dcc5",
   "metadata": {},
   "source": [
    "Import Pnadas "
   ]
  },
  {
   "cell_type": "code",
   "execution_count": 13,
   "id": "d117a61a-ab73-48f6-a0c5-b13d83dfa278",
   "metadata": {},
   "outputs": [],
   "source": [
    "import pandas as pd"
   ]
  },
  {
   "cell_type": "markdown",
   "id": "f6481b70-e891-4c2b-9bda-7d8c6e4a1044",
   "metadata": {},
   "source": [
    "Check Pandas functions and modules"
   ]
  },
  {
   "cell_type": "code",
   "execution_count": 14,
   "id": "c42aad06-ed74-4c9b-936b-4c2780e6bad6",
   "metadata": {},
   "outputs": [
    {
     "name": "stdout",
     "output_type": "stream",
     "text": [
      "['ArrowDtype', 'BooleanDtype', 'Categorical', 'CategoricalDtype', 'CategoricalIndex', 'DataFrame', 'DateOffset', 'DatetimeIndex', 'DatetimeTZDtype', 'ExcelFile', 'ExcelWriter', 'Flags', 'Float32Dtype', 'Float64Dtype', 'Grouper', 'HDFStore', 'Index', 'IndexSlice', 'Int16Dtype', 'Int32Dtype', 'Int64Dtype', 'Int8Dtype', 'Interval', 'IntervalDtype', 'IntervalIndex', 'MultiIndex', 'NA', 'NaT', 'NamedAgg', 'Period', 'PeriodDtype', 'PeriodIndex', 'RangeIndex', 'Series', 'SparseDtype', 'StringDtype', 'Timedelta', 'TimedeltaIndex', 'Timestamp', 'UInt16Dtype', 'UInt32Dtype', 'UInt64Dtype', 'UInt8Dtype', '__all__', '__builtins__', '__cached__', '__doc__', '__docformat__', '__file__', '__git_version__', '__loader__', '__name__', '__package__', '__path__', '__spec__', '__version__', '_built_with_meson', '_config', '_is_numpy_dev', '_libs', '_pandas_datetime_CAPI', '_pandas_parser_CAPI', '_testing', '_typing', '_version_meson', 'annotations', 'api', 'array', 'arrays', 'bdate_range', 'compat', 'concat', 'core', 'crosstab', 'cut', 'date_range', 'describe_option', 'errors', 'eval', 'factorize', 'from_dummies', 'get_dummies', 'get_option', 'infer_freq', 'interval_range', 'io', 'isna', 'isnull', 'json_normalize', 'lreshape', 'melt', 'merge', 'merge_asof', 'merge_ordered', 'notna', 'notnull', 'offsets', 'option_context', 'options', 'pandas', 'period_range', 'pivot', 'pivot_table', 'plotting', 'qcut', 'read_clipboard', 'read_csv', 'read_excel', 'read_feather', 'read_fwf', 'read_gbq', 'read_hdf', 'read_html', 'read_json', 'read_orc', 'read_parquet', 'read_pickle', 'read_sas', 'read_spss', 'read_sql', 'read_sql_query', 'read_sql_table', 'read_stata', 'read_table', 'read_xml', 'reset_option', 'set_eng_float_format', 'set_option', 'show_versions', 'test', 'testing', 'timedelta_range', 'to_datetime', 'to_numeric', 'to_pickle', 'to_timedelta', 'tseries', 'unique', 'util', 'value_counts', 'wide_to_long']\n"
     ]
    }
   ],
   "source": [
    "print(dir(pd))"
   ]
  },
  {
   "cell_type": "markdown",
   "id": "47f39892-fe48-4ff1-8c8f-f92fc4d3c45b",
   "metadata": {},
   "source": [
    "Copy and paste the dataset path on your laptop"
   ]
  },
  {
   "cell_type": "code",
   "execution_count": 16,
   "id": "49a23ef5-d5e7-4fc7-a8b9-7b2c0ed1da43",
   "metadata": {},
   "outputs": [],
   "source": [
    "path = r\"C:\\Users\\Brahim\\Desktop\\meat.xlsx\""
   ]
  },
  {
   "cell_type": "markdown",
   "id": "b4eb0b25-cba8-49f3-a413-953b85db6262",
   "metadata": {},
   "source": [
    "Assign a name for your dataset **df** for example"
   ]
  },
  {
   "cell_type": "code",
   "execution_count": 17,
   "id": "048d1ef5-b411-42e7-8578-a36d4a2b98fe",
   "metadata": {},
   "outputs": [],
   "source": [
    "df = pd.read_excel(path, sheet_name = \"ALG\")"
   ]
  },
  {
   "cell_type": "code",
   "execution_count": 30,
   "id": "1fc68619-0e13-48d6-8f8d-3ea1c3c568c3",
   "metadata": {},
   "outputs": [
    {
     "name": "stdout",
     "output_type": "stream",
     "text": [
      "   Year  Meat, poultry   Meat, beef and buffalo   Meat, sheep and goat   \\\n",
      "0  1961        1.799442                 4.036318               3.608827   \n",
      "1  1962        1.656191                 3.312383               3.262195   \n",
      "2  1963        1.529399                 2.390319               2.896743   \n",
      "3  1964        1.563067                 2.196467               3.126134   \n",
      "4  1965        1.714377                 2.313376               3.253185   \n",
      "\n",
      "   Meat, Other   Fish and seafood   \n",
      "0      0.487142           3.290693  \n",
      "1      0.471764           1.937242  \n",
      "2      0.455781           1.377472  \n",
      "3      0.469942           1.552851  \n",
      "4      0.547361           1.404550  \n"
     ]
    }
   ],
   "source": [
    "print(df.head())"
   ]
  },
  {
   "cell_type": "code",
   "execution_count": 29,
   "id": "3c29823f-60d6-44c1-be28-6549a535eca9",
   "metadata": {},
   "outputs": [
    {
     "name": "stdout",
     "output_type": "stream",
     "text": [
      "    Year  Meat, poultry   Meat, beef and buffalo   Meat, sheep and goat   \\\n",
      "57  2018        6.717401                 4.961605               7.762987   \n",
      "58  2019        6.470735                 5.188425               8.019371   \n",
      "59  2020        5.850510                 3.956248               8.021020   \n",
      "60  2021        6.089626                 3.612323               8.073443   \n",
      "61  2022        6.052613                 3.416320               8.007616   \n",
      "\n",
      "    Meat, Other   Fish and seafood   \n",
      "57      0.355105           4.192211  \n",
      "58      0.335373           3.846931  \n",
      "59      0.345308           3.028848  \n",
      "60      0.345441           2.832614  \n",
      "61      0.345581           2.794273  \n"
     ]
    }
   ],
   "source": [
    "print(df.tail())"
   ]
  },
  {
   "cell_type": "code",
   "execution_count": 20,
   "id": "a17808c3-dd40-40af-93ae-e9bdec02a258",
   "metadata": {},
   "outputs": [
    {
     "data": {
      "text/html": [
       "<div>\n",
       "<style scoped>\n",
       "    .dataframe tbody tr th:only-of-type {\n",
       "        vertical-align: middle;\n",
       "    }\n",
       "\n",
       "    .dataframe tbody tr th {\n",
       "        vertical-align: top;\n",
       "    }\n",
       "\n",
       "    .dataframe thead th {\n",
       "        text-align: right;\n",
       "    }\n",
       "</style>\n",
       "<table border=\"1\" class=\"dataframe\">\n",
       "  <thead>\n",
       "    <tr style=\"text-align: right;\">\n",
       "      <th></th>\n",
       "      <th>Year</th>\n",
       "      <th>Meat, poultry</th>\n",
       "      <th>Meat, beef and buffalo</th>\n",
       "      <th>Meat, sheep and goat</th>\n",
       "      <th>Meat, Other</th>\n",
       "      <th>Fish and seafood</th>\n",
       "    </tr>\n",
       "  </thead>\n",
       "  <tbody>\n",
       "    <tr>\n",
       "      <th>0</th>\n",
       "      <td>1961</td>\n",
       "      <td>1.799442</td>\n",
       "      <td>4.036318</td>\n",
       "      <td>3.608827</td>\n",
       "      <td>0.487142</td>\n",
       "      <td>3.290693</td>\n",
       "    </tr>\n",
       "    <tr>\n",
       "      <th>1</th>\n",
       "      <td>1962</td>\n",
       "      <td>1.656191</td>\n",
       "      <td>3.312383</td>\n",
       "      <td>3.262195</td>\n",
       "      <td>0.471764</td>\n",
       "      <td>1.937242</td>\n",
       "    </tr>\n",
       "    <tr>\n",
       "      <th>2</th>\n",
       "      <td>1963</td>\n",
       "      <td>1.529399</td>\n",
       "      <td>2.390319</td>\n",
       "      <td>2.896743</td>\n",
       "      <td>0.455781</td>\n",
       "      <td>1.377472</td>\n",
       "    </tr>\n",
       "    <tr>\n",
       "      <th>3</th>\n",
       "      <td>1964</td>\n",
       "      <td>1.563067</td>\n",
       "      <td>2.196467</td>\n",
       "      <td>3.126134</td>\n",
       "      <td>0.469942</td>\n",
       "      <td>1.552851</td>\n",
       "    </tr>\n",
       "    <tr>\n",
       "      <th>4</th>\n",
       "      <td>1965</td>\n",
       "      <td>1.714377</td>\n",
       "      <td>2.313376</td>\n",
       "      <td>3.253185</td>\n",
       "      <td>0.547361</td>\n",
       "      <td>1.404550</td>\n",
       "    </tr>\n",
       "    <tr>\n",
       "      <th>...</th>\n",
       "      <td>...</td>\n",
       "      <td>...</td>\n",
       "      <td>...</td>\n",
       "      <td>...</td>\n",
       "      <td>...</td>\n",
       "      <td>...</td>\n",
       "    </tr>\n",
       "    <tr>\n",
       "      <th>57</th>\n",
       "      <td>2018</td>\n",
       "      <td>6.717401</td>\n",
       "      <td>4.961605</td>\n",
       "      <td>7.762987</td>\n",
       "      <td>0.355105</td>\n",
       "      <td>4.192211</td>\n",
       "    </tr>\n",
       "    <tr>\n",
       "      <th>58</th>\n",
       "      <td>2019</td>\n",
       "      <td>6.470735</td>\n",
       "      <td>5.188425</td>\n",
       "      <td>8.019371</td>\n",
       "      <td>0.335373</td>\n",
       "      <td>3.846931</td>\n",
       "    </tr>\n",
       "    <tr>\n",
       "      <th>59</th>\n",
       "      <td>2020</td>\n",
       "      <td>5.850510</td>\n",
       "      <td>3.956248</td>\n",
       "      <td>8.021020</td>\n",
       "      <td>0.345308</td>\n",
       "      <td>3.028848</td>\n",
       "    </tr>\n",
       "    <tr>\n",
       "      <th>60</th>\n",
       "      <td>2021</td>\n",
       "      <td>6.089626</td>\n",
       "      <td>3.612323</td>\n",
       "      <td>8.073443</td>\n",
       "      <td>0.345441</td>\n",
       "      <td>2.832614</td>\n",
       "    </tr>\n",
       "    <tr>\n",
       "      <th>61</th>\n",
       "      <td>2022</td>\n",
       "      <td>6.052613</td>\n",
       "      <td>3.416320</td>\n",
       "      <td>8.007616</td>\n",
       "      <td>0.345581</td>\n",
       "      <td>2.794273</td>\n",
       "    </tr>\n",
       "  </tbody>\n",
       "</table>\n",
       "<p>62 rows × 6 columns</p>\n",
       "</div>"
      ],
      "text/plain": [
       "    Year  Meat, poultry   Meat, beef and buffalo   Meat, sheep and goat   \\\n",
       "0   1961        1.799442                 4.036318               3.608827   \n",
       "1   1962        1.656191                 3.312383               3.262195   \n",
       "2   1963        1.529399                 2.390319               2.896743   \n",
       "3   1964        1.563067                 2.196467               3.126134   \n",
       "4   1965        1.714377                 2.313376               3.253185   \n",
       "..   ...             ...                      ...                    ...   \n",
       "57  2018        6.717401                 4.961605               7.762987   \n",
       "58  2019        6.470735                 5.188425               8.019371   \n",
       "59  2020        5.850510                 3.956248               8.021020   \n",
       "60  2021        6.089626                 3.612323               8.073443   \n",
       "61  2022        6.052613                 3.416320               8.007616   \n",
       "\n",
       "    Meat, Other   Fish and seafood   \n",
       "0       0.487142           3.290693  \n",
       "1       0.471764           1.937242  \n",
       "2       0.455781           1.377472  \n",
       "3       0.469942           1.552851  \n",
       "4       0.547361           1.404550  \n",
       "..           ...                ...  \n",
       "57      0.355105           4.192211  \n",
       "58      0.335373           3.846931  \n",
       "59      0.345308           3.028848  \n",
       "60      0.345441           2.832614  \n",
       "61      0.345581           2.794273  \n",
       "\n",
       "[62 rows x 6 columns]"
      ]
     },
     "execution_count": 20,
     "metadata": {},
     "output_type": "execute_result"
    }
   ],
   "source": [
    "df[:]"
   ]
  },
  {
   "cell_type": "markdown",
   "id": "fdf4b9c7-ec74-4d24-87fb-e3ac3cbe06d4",
   "metadata": {},
   "source": [
    "Using **iloc** create a subset dataset **dta** from **df** with first 5 rows and all columns"
   ]
  },
  {
   "cell_type": "code",
   "execution_count": 24,
   "id": "47bcfe30-19ba-40e1-b539-4b07395c2095",
   "metadata": {},
   "outputs": [
    {
     "data": {
      "text/html": [
       "<div>\n",
       "<style scoped>\n",
       "    .dataframe tbody tr th:only-of-type {\n",
       "        vertical-align: middle;\n",
       "    }\n",
       "\n",
       "    .dataframe tbody tr th {\n",
       "        vertical-align: top;\n",
       "    }\n",
       "\n",
       "    .dataframe thead th {\n",
       "        text-align: right;\n",
       "    }\n",
       "</style>\n",
       "<table border=\"1\" class=\"dataframe\">\n",
       "  <thead>\n",
       "    <tr style=\"text-align: right;\">\n",
       "      <th></th>\n",
       "      <th>Year</th>\n",
       "      <th>Meat, poultry</th>\n",
       "      <th>Meat, beef and buffalo</th>\n",
       "      <th>Meat, sheep and goat</th>\n",
       "      <th>Meat, Other</th>\n",
       "      <th>Fish and seafood</th>\n",
       "    </tr>\n",
       "  </thead>\n",
       "  <tbody>\n",
       "    <tr>\n",
       "      <th>0</th>\n",
       "      <td>1961</td>\n",
       "      <td>1.799442</td>\n",
       "      <td>4.036318</td>\n",
       "      <td>3.608827</td>\n",
       "      <td>0.487142</td>\n",
       "      <td>3.290693</td>\n",
       "    </tr>\n",
       "    <tr>\n",
       "      <th>1</th>\n",
       "      <td>1962</td>\n",
       "      <td>1.656191</td>\n",
       "      <td>3.312383</td>\n",
       "      <td>3.262195</td>\n",
       "      <td>0.471764</td>\n",
       "      <td>1.937242</td>\n",
       "    </tr>\n",
       "    <tr>\n",
       "      <th>2</th>\n",
       "      <td>1963</td>\n",
       "      <td>1.529399</td>\n",
       "      <td>2.390319</td>\n",
       "      <td>2.896743</td>\n",
       "      <td>0.455781</td>\n",
       "      <td>1.377472</td>\n",
       "    </tr>\n",
       "    <tr>\n",
       "      <th>3</th>\n",
       "      <td>1964</td>\n",
       "      <td>1.563067</td>\n",
       "      <td>2.196467</td>\n",
       "      <td>3.126134</td>\n",
       "      <td>0.469942</td>\n",
       "      <td>1.552851</td>\n",
       "    </tr>\n",
       "    <tr>\n",
       "      <th>4</th>\n",
       "      <td>1965</td>\n",
       "      <td>1.714377</td>\n",
       "      <td>2.313376</td>\n",
       "      <td>3.253185</td>\n",
       "      <td>0.547361</td>\n",
       "      <td>1.404550</td>\n",
       "    </tr>\n",
       "  </tbody>\n",
       "</table>\n",
       "</div>"
      ],
      "text/plain": [
       "   Year  Meat, poultry   Meat, beef and buffalo   Meat, sheep and goat   \\\n",
       "0  1961        1.799442                 4.036318               3.608827   \n",
       "1  1962        1.656191                 3.312383               3.262195   \n",
       "2  1963        1.529399                 2.390319               2.896743   \n",
       "3  1964        1.563067                 2.196467               3.126134   \n",
       "4  1965        1.714377                 2.313376               3.253185   \n",
       "\n",
       "   Meat, Other   Fish and seafood   \n",
       "0      0.487142           3.290693  \n",
       "1      0.471764           1.937242  \n",
       "2      0.455781           1.377472  \n",
       "3      0.469942           1.552851  \n",
       "4      0.547361           1.404550  "
      ]
     },
     "execution_count": 24,
     "metadata": {},
     "output_type": "execute_result"
    }
   ],
   "source": [
    "dta = df.iloc[[0,1,2,3,4],: ]\n",
    "dta"
   ]
  },
  {
   "cell_type": "code",
   "execution_count": null,
   "id": "3747e45c-8fe8-460f-ab51-36042bd40d35",
   "metadata": {},
   "outputs": [],
   "source": [
    "**Export your new dataset as csv**, use index = false to avoid eporting the index column"
   ]
  },
  {
   "cell_type": "code",
   "execution_count": 28,
   "id": "d44095f7-8828-4010-8ddf-e8009c19e717",
   "metadata": {},
   "outputs": [],
   "source": [
    "dta.to_csv(\"dta_dataset.csv\", index = False)"
   ]
  },
  {
   "cell_type": "code",
   "execution_count": null,
   "id": "43041e6e-14b7-4da9-b8cb-942f4d7bac9c",
   "metadata": {},
   "outputs": [],
   "source": []
  }
 ],
 "metadata": {
  "kernelspec": {
   "display_name": "Python 3 (ipykernel)",
   "language": "python",
   "name": "python3"
  },
  "language_info": {
   "codemirror_mode": {
    "name": "ipython",
    "version": 3
   },
   "file_extension": ".py",
   "mimetype": "text/x-python",
   "name": "python",
   "nbconvert_exporter": "python",
   "pygments_lexer": "ipython3",
   "version": "3.13.5"
  }
 },
 "nbformat": 4,
 "nbformat_minor": 5
}
