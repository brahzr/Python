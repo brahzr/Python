{
 "cells": [
  {
   "cell_type": "markdown",
   "id": "13883e5a-f6ff-40a3-b224-eae2cb898f37",
   "metadata": {},
   "source": [
    "# Math in Python <br>\n",
    "**Author:**\n",
    "Brahim Zirari <br>\n",
    "**Version:**\n",
    "Python 3.13.5 <br>\n",
    "**Topic:** <br>\n",
    "* This notebook contains an example about simple linear regression model from Introductory Econometrics: A Modern Approach, 5e by Jeffrey M.  <br>"
   ]
  },
  {
   "cell_type": "markdown",
   "id": "f563412e-525b-401f-ad57-36bf9f445065",
   "metadata": {},
   "source": []
  },
  {
   "cell_type": "markdown",
   "id": "b2bb49fb-0b72-4a79-bc90-f1a31cf43885",
   "metadata": {},
   "source": [
    "But first we need to learn about data types in Python"
   ]
  },
  {
   "cell_type": "code",
   "execution_count": 3,
   "id": "85721bc2-07fd-4c3c-b88e-f39936d4b47b",
   "metadata": {},
   "outputs": [
    {
     "name": "stdout",
     "output_type": "stream",
     "text": [
      "<class 'int'>\n"
     ]
    }
   ],
   "source": [
    "a = 5  #integer \n",
    "print(type(a)) #to check its type\n",
    "f = 5.3 #float \n",
    "s = \"abc\" #String\n",
    "n = True #Boolean\n",
    "L = [1, 3, 1.5] #list"
   ]
  },
  {
   "cell_type": "code",
   "execution_count": 8,
   "id": "1eee9419-5b4e-40e6-9e08-76381b386bc3",
   "metadata": {},
   "outputs": [],
   "source": [
    "a = 5\n",
    "b = 8"
   ]
  },
  {
   "cell_type": "markdown",
   "id": "dc8cba4d-5b79-40e0-afe2-ff774367129b",
   "metadata": {},
   "source": [
    "**1. Math Operations**"
   ]
  },
  {
   "cell_type": "code",
   "execution_count": 11,
   "id": "d01efdfe-f863-4d7e-ac42-3186538a174e",
   "metadata": {},
   "outputs": [
    {
     "name": "stdout",
     "output_type": "stream",
     "text": [
      "13\n",
      "-3\n",
      "40\n",
      "0.625\n",
      "0\n",
      "390625\n",
      "5\n"
     ]
    },
    {
     "data": {
      "text/plain": [
       "'5.00'"
      ]
     },
     "execution_count": 11,
     "metadata": {},
     "output_type": "execute_result"
    }
   ],
   "source": [
    "print(a+b) #Sum a and b (13)\n",
    "print(a-b) #Subtract b from a (-3)\n",
    "print(a*b) #a times b (40)\n",
    "print(a/b) #float division\n",
    "print(a//b) #integer division\n",
    "print(a**b) #a to the power of b (390625)\n",
    "print(a%b) #Rest of a divided by b (5)\n",
    "format(a%b, \".2f\") #change the number into a fixed point number with 2 decimals."
   ]
  },
  {
   "cell_type": "markdown",
   "id": "187d072b-96ae-421a-a1fa-0d591bf1c7a6",
   "metadata": {},
   "source": [
    "**2. Logic Tests**"
   ]
  },
  {
   "cell_type": "code",
   "execution_count": 12,
   "id": "903a6b9f-6609-4d9c-8e2e-019154931e58",
   "metadata": {},
   "outputs": [
    {
     "name": "stdout",
     "output_type": "stream",
     "text": [
      "False\n",
      "False\n",
      "True\n",
      "False\n",
      "True\n",
      "True\n",
      "True\n"
     ]
    }
   ],
   "source": [
    "print( a == b) #equals to\n",
    "print(a>b) #greater than\n",
    "print(a<b) #lower than\n",
    "print(a>=b) #greater than or equal\n",
    "print(a<=b) #lower than or equal\n",
    "print(a!=b) #different than\n",
    "print(not a==b) #not equal to"
   ]
  },
  {
   "cell_type": "markdown",
   "id": "5443888f-9c3b-420a-bcba-70a4c4a07463",
   "metadata": {},
   "source": [
    "**3. Math Module**"
   ]
  },
  {
   "cell_type": "code",
   "execution_count": 7,
   "id": "715f1767-4f4e-4d31-be80-3a1e01ed828d",
   "metadata": {},
   "outputs": [],
   "source": [
    "import math as m  #Imports module math"
   ]
  },
  {
   "cell_type": "code",
   "execution_count": 14,
   "id": "310cc1d4-a27b-4c44-86fd-5c94be12ae8a",
   "metadata": {},
   "outputs": [
    {
     "name": "stdout",
     "output_type": "stream",
     "text": [
      "['__doc__', '__loader__', '__name__', '__package__', '__spec__', 'acos', 'acosh', 'asin', 'asinh', 'atan', 'atan2', 'atanh', 'cbrt', 'ceil', 'comb', 'copysign', 'cos', 'cosh', 'degrees', 'dist', 'e', 'erf', 'erfc', 'exp', 'exp2', 'expm1', 'fabs', 'factorial', 'floor', 'fma', 'fmod', 'frexp', 'fsum', 'gamma', 'gcd', 'hypot', 'inf', 'isclose', 'isfinite', 'isinf', 'isnan', 'isqrt', 'lcm', 'ldexp', 'lgamma', 'log', 'log10', 'log1p', 'log2', 'modf', 'nan', 'nextafter', 'perm', 'pi', 'pow', 'prod', 'radians', 'remainder', 'sin', 'sinh', 'sqrt', 'sumprod', 'tan', 'tanh', 'tau', 'trunc', 'ulp']\n"
     ]
    }
   ],
   "source": [
    "print(dir(m)) #check function in the math module"
   ]
  },
  {
   "cell_type": "code",
   "execution_count": 16,
   "id": "15a07929-a05e-4946-9c45-49ed93c9485a",
   "metadata": {},
   "outputs": [],
   "source": [
    "x = 2.9 \n",
    "angle = 45 \n",
    "y = 1 "
   ]
  },
  {
   "cell_type": "code",
   "execution_count": 17,
   "id": "29c69472-edb2-4fcf-a16b-fcbe2585f3c5",
   "metadata": {},
   "outputs": [
    {
     "name": "stdout",
     "output_type": "stream",
     "text": [
      "3\n",
      "2\n",
      "1.70293863659264\n",
      "1\n",
      "0.8509035245341184\n",
      "0.5253219888177297\n",
      "1.6197751905438615\n",
      "1.5430806348152437\n"
     ]
    }
   ],
   "source": [
    "print(m.ceil(x)) #Rounds x up\n",
    "print(m.floor(x)) #Rounds x down\n",
    "print(m.sqrt(x)) #Square root of x\n",
    "d = m.sqrt(x)\n",
    "print(m.floor(d))\n",
    "print(m.sin(angle)) #Sine of angle \n",
    "print(m.cos(angle)) #Cosine of angle \n",
    "print(m.tan(angle)) #Tangent of angle\n",
    "print(m.cosh(y)) #Hiperbolic sine of y "
   ]
  },
  {
   "cell_type": "markdown",
   "id": "5f853161-3fb0-4657-a59d-06217b3f8aac",
   "metadata": {},
   "source": [
    "Calculating triangle angles using arccos, arcsin, and arctan. <br>\n",
    "Adjacent, Opposite, Hypotenuse = 3, 4, 5 "
   ]
  },
  {
   "cell_type": "code",
   "execution_count": 21,
   "id": "59946a5c-6eea-4826-8da9-351838c60f6e",
   "metadata": {},
   "outputs": [
    {
     "name": "stdout",
     "output_type": "stream",
     "text": [
      "0.9272952180016123 0.9272952180016123 0.9272952180016122\n",
      "53.13010235415599\n",
      "53.13010235415599\n",
      "53.13010235415598\n"
     ]
    }
   ],
   "source": [
    "Adj = 3\n",
    "Op = 4\n",
    "Hyp = 5\n",
    "angle1 = m.acos(Adj/Hyp) #arccos\n",
    "angle2 = m.asin(Op/Hyp) #arcsin\n",
    "angle3 = m.atan(Op/Adj) #arctan\n",
    "print(angle1, angle2, angle3)\n",
    "print(m.degrees(angle1))\n",
    "print(m.degrees(angle2))\n",
    "print(m.degrees(angle3))"
   ]
  },
  {
   "cell_type": "code",
   "execution_count": 24,
   "id": "369e1548-5624-4df9-8f5b-a0c0137055e0",
   "metadata": {},
   "outputs": [
    {
     "name": "stdout",
     "output_type": "stream",
     "text": [
      "1.8273550806240353\n",
      "18.17414536944306\n",
      "1.0647107369924282\n",
      "2.718281828459045\n",
      "3.141592653589793\n"
     ]
    }
   ],
   "source": [
    "#functions \n",
    "print(m.gamma(x)) #Gamma function of x\n",
    "print(m.exp(x))#e to the power of x\n",
    "print(m.log(x))# Natural logarithm of x\n",
    "print(m.e) #Constant e\n",
    "print(m.pi)# Constant pi"
   ]
  },
  {
   "cell_type": "markdown",
   "id": "d88593d5-8a66-43a4-9570-450e80c62129",
   "metadata": {},
   "source": [
    "**Second Degree Equation Roots**"
   ]
  },
  {
   "cell_type": "markdown",
   "id": "5049f59a-f75f-491a-9bc8-8e47e0de37d2",
   "metadata": {},
   "source": [
    "$ ax^2 + bx + c = 0 $"
   ]
  },
  {
   "cell_type": "code",
   "execution_count": 5,
   "id": "d9fc2de3-4db9-4107-b069-ab0bdb239e0a",
   "metadata": {},
   "outputs": [],
   "source": [
    "a = 1\n",
    "b = 4\n",
    "c = -3"
   ]
  },
  {
   "cell_type": "code",
   "execution_count": 9,
   "id": "11402800-8747-4a68-b3af-811603c1aefb",
   "metadata": {},
   "outputs": [
    {
     "name": "stdout",
     "output_type": "stream",
     "text": [
      "x1: 0.2360679774997898\n",
      "x2: -4.23606797749979\n"
     ]
    }
   ],
   "source": [
    "delta = b*2 - 4*a*c\n",
    "x1 = (-b + m.sqrt(delta))/(2*a)\n",
    "x2 = (-b - m.sqrt(delta))/(2*a)\n",
    "\n",
    "print(\"x1:\", x1)\n",
    "print(\"x2:\", x2)"
   ]
  }
 ],
 "metadata": {
  "kernelspec": {
   "display_name": "Python [conda env:base] *",
   "language": "python",
   "name": "conda-base-py"
  },
  "language_info": {
   "codemirror_mode": {
    "name": "ipython",
    "version": 3
   },
   "file_extension": ".py",
   "mimetype": "text/x-python",
   "name": "python",
   "nbconvert_exporter": "python",
   "pygments_lexer": "ipython3",
   "version": "3.13.5"
  }
 },
 "nbformat": 4,
 "nbformat_minor": 5
}
